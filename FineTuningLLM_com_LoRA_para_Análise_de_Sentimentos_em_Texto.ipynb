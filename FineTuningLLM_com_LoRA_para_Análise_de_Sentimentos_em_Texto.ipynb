{
  "cells": [
    {
      "cell_type": "markdown",
      "metadata": {
        "id": "view-in-github",
        "colab_type": "text"
      },
      "source": [
        "<a href=\"https://colab.research.google.com/github/RenanNB360/FineTuningLLM-com-LoRA-para-Analise-de-Sentimentos-em-Texto/blob/main/FineTuningLLM_com_LoRA_para_An%C3%A1lise_de_Sentimentos_em_Texto.ipynb\" target=\"_parent\"><img src=\"https://colab.research.google.com/assets/colab-badge.svg\" alt=\"Open In Colab\"/></a>"
      ]
    },
    {
      "cell_type": "markdown",
      "metadata": {
        "id": "MFy-uAhz1OOh"
      },
      "source": [
        "## Instalando e Carregando Pacotes"
      ]
    },
    {
      "cell_type": "code",
      "execution_count": null,
      "metadata": {
        "id": "-yBspMX-1OOi"
      },
      "outputs": [],
      "source": [
        "!pip install -q accelerate==0.21.0 peft==0.4.0 bitsandbytes==0.40.2 transformers==4.31.0"
      ]
    },
    {
      "cell_type": "code",
      "execution_count": null,
      "metadata": {
        "id": "rJOiFhsI1OOi"
      },
      "outputs": [],
      "source": [
        "!pip install -q trl==0.4.7 gradio==3.37.0 protobuf==3.20.3 scipy==1.11.1"
      ]
    },
    {
      "cell_type": "code",
      "execution_count": null,
      "metadata": {
        "id": "BCscFWU11OOi"
      },
      "outputs": [],
      "source": [
        "!pip install -q sentencepiece==0.1.99 tokenizers==0.13.3 datasets==2.16.1"
      ]
    },
    {
      "cell_type": "code",
      "execution_count": null,
      "metadata": {
        "id": "nAMzy_0FtaUZ",
        "tags": []
      },
      "outputs": [],
      "source": [
        "import os\n",
        "import torch\n",
        "import datasets\n",
        "import pandas as pd\n",
        "from datasets import load_dataset\n",
        "from transformers import (AutoModelForCausalLM,\n",
        "                          AutoTokenizer,\n",
        "                          BitsAndBytesConfig,\n",
        "                          HfArgumentParser,\n",
        "                          TrainingArguments,\n",
        "                          pipeline,\n",
        "                          logging)\n",
        "from peft import LoraConfig, PeftModel\n",
        "from trl import SFTTrainer\n",
        "import warnings\n",
        "warnings.filterwarnings('ignore')"
      ]
    },
    {
      "cell_type": "code",
      "execution_count": null,
      "metadata": {
        "id": "sCjC_MHpAKQP"
      },
      "outputs": [],
      "source": [
        "logging.set_verbosity(logging.CRITICAL)"
      ]
    },
    {
      "cell_type": "code",
      "execution_count": null,
      "metadata": {
        "id": "pmFTqTOG61YC",
        "colab": {
          "base_uri": "https://localhost:8080/"
        },
        "outputId": "954b2f30-811a-4e96-9d0c-be207d5fa026"
      },
      "outputs": [
        {
          "output_type": "stream",
          "name": "stdout",
          "text": [
            "Número de GPUs: 1\n",
            "Modelo GPU: NVIDIA A100-SXM4-40GB\n",
            "Total Memória [GB] da GPU: 42.481811456\n"
          ]
        }
      ],
      "source": [
        "if torch.cuda.is_available():\n",
        "    print('Número de GPUs:', torch.cuda.device_count())\n",
        "    print('Modelo GPU:', torch.cuda.get_device_name(0))\n",
        "    print('Total Memória [GB] da GPU:',torch.cuda.get_device_properties(0).total_memory / 1e9)"
      ]
    },
    {
      "cell_type": "code",
      "execution_count": null,
      "metadata": {
        "id": "kw4uSDl76z-N"
      },
      "outputs": [],
      "source": [
        "from numba import cuda\n",
        "device = cuda.get_current_device()\n",
        "device.reset()"
      ]
    },
    {
      "cell_type": "code",
      "execution_count": null,
      "metadata": {
        "id": "BZArexSp1OOj"
      },
      "outputs": [],
      "source": [
        "nome_dataset = \"dataset.csv\""
      ]
    },
    {
      "cell_type": "code",
      "execution_count": null,
      "metadata": {
        "id": "SFjD_NF8n8kt"
      },
      "outputs": [],
      "source": [
        "dataset_carregado = load_dataset('csv', data_files = nome_dataset, delimiter = ',')"
      ]
    },
    {
      "cell_type": "code",
      "source": [
        "dataset_carregado"
      ],
      "metadata": {
        "colab": {
          "base_uri": "https://localhost:8080/"
        },
        "id": "fcMKEnkT9UZr",
        "outputId": "74e06c74-f1c9-4e85-bc1d-83266c93ce1a"
      },
      "execution_count": null,
      "outputs": [
        {
          "output_type": "execute_result",
          "data": {
            "text/plain": [
              "DatasetDict({\n",
              "    train: Dataset({\n",
              "        features: ['train'],\n",
              "        num_rows: 17057\n",
              "    })\n",
              "})"
            ]
          },
          "metadata": {},
          "execution_count": 12
        }
      ]
    },
    {
      "cell_type": "code",
      "execution_count": null,
      "metadata": {
        "id": "fe_vsFJs1XPG"
      },
      "outputs": [],
      "source": [
        "repositorio_hf = \"NousResearch/Llama-2-7b-chat-hf\""
      ]
    },
    {
      "cell_type": "code",
      "execution_count": null,
      "metadata": {
        "id": "VbPqgPsv1OOj"
      },
      "outputs": [],
      "source": [
        "modelo = \"novo_modelo\""
      ]
    },
    {
      "cell_type": "markdown",
      "source": [
        "## Definindo os Parâmetros de Configuração"
      ],
      "metadata": {
        "id": "J7B7VikzQp3X"
      }
    },
    {
      "cell_type": "code",
      "execution_count": null,
      "metadata": {
        "id": "bauIDIDh1OOj"
      },
      "outputs": [],
      "source": [
        "lora_r = 32\n",
        "lora_alpha = 16\n",
        "lora_dropout = 0.1"
      ]
    },
    {
      "cell_type": "code",
      "execution_count": null,
      "metadata": {
        "id": "l4iDCe5R1OOj"
      },
      "outputs": [],
      "source": [
        "use_4bit = True\n",
        "bnb_4bit_compute_dtype = \"float16\"\n",
        "bnb_4bit_quant_type = \"nf4\"\n",
        "use_nested_quant = False"
      ]
    },
    {
      "cell_type": "code",
      "execution_count": null,
      "metadata": {
        "id": "GhvC2CvF1OOj"
      },
      "outputs": [],
      "source": [
        "output_dir = \"saida\"\n",
        "num_train_epochs = 1\n",
        "fp16 = True\n",
        "bf16 = False\n",
        "per_device_train_batch_size = 4\n",
        "per_device_eval_batch_size = 4\n",
        "gradient_accumulation_steps = 1\n",
        "gradient_checkpointing = True\n",
        "max_grad_norm = 0.3\n",
        "learning_rate = 2e-4\n",
        "weight_decay = 0.001\n",
        "optim = \"paged_adamw_32bit\"\n",
        "lr_scheduler_type = \"cosine\"\n",
        "max_steps = -1\n",
        "warmup_ratio = 0.03"
      ]
    },
    {
      "cell_type": "code",
      "execution_count": null,
      "metadata": {
        "id": "-y-YqQIO1OOj"
      },
      "outputs": [],
      "source": [
        "group_by_length = True\n",
        "save_steps = 0\n",
        "logging_steps = 400"
      ]
    },
    {
      "cell_type": "code",
      "execution_count": null,
      "metadata": {
        "id": "l5-jclzon8nz"
      },
      "outputs": [],
      "source": [
        "compute_dtype = getattr(torch, bnb_4bit_compute_dtype)"
      ]
    },
    {
      "cell_type": "code",
      "execution_count": null,
      "metadata": {
        "id": "-jetJVp9n8rN"
      },
      "outputs": [],
      "source": [
        "bnb_config = BitsAndBytesConfig(load_in_4bit = use_4bit,\n",
        "                                bnb_4bit_quant_type = bnb_4bit_quant_type,\n",
        "                                bnb_4bit_compute_dtype = compute_dtype,\n",
        "                                bnb_4bit_use_double_quant = use_nested_quant)"
      ]
    },
    {
      "cell_type": "code",
      "execution_count": null,
      "metadata": {
        "id": "2-n7bDY5n8w5",
        "colab": {
          "base_uri": "https://localhost:8080/",
          "height": 49,
          "referenced_widgets": [
            "4a736b9f243946c4884f498413df2d65",
            "dcb025fcf9674fe9b4acfd4a8d2806c6",
            "409755f60a624dbda1dcf83df61ff640",
            "536d6ff66192425ca393c55cd6052a20",
            "3b5d13958f5d4cc4862fa940b1e50cde",
            "6ed73dfb1b0b4c068eea4d8af22589b7",
            "0ce4e980d36740d68d0e5bf404fbde12",
            "94791cbdf7a341cc9a94ac0f289aecb4",
            "dfa63bc79f99408292f36b090082a5de",
            "b5ef973d5a294f129ecad6545980f872",
            "ace4cf0d1c0e4bcfa18bf8aedec77b9f"
          ]
        },
        "outputId": "c5482a7f-d33b-435c-a687-1d012ea8c454"
      },
      "outputs": [
        {
          "output_type": "display_data",
          "data": {
            "text/plain": [
              "Loading checkpoint shards:   0%|          | 0/2 [00:00<?, ?it/s]"
            ],
            "application/vnd.jupyter.widget-view+json": {
              "version_major": 2,
              "version_minor": 0,
              "model_id": "4a736b9f243946c4884f498413df2d65"
            }
          },
          "metadata": {}
        }
      ],
      "source": [
        "modelo = AutoModelForCausalLM.from_pretrained(repositorio_hf,\n",
        "                                              quantization_config = bnb_config,\n",
        "                                              device_map = \"auto\")"
      ]
    },
    {
      "cell_type": "code",
      "execution_count": null,
      "metadata": {
        "id": "T1x315Frn8zg"
      },
      "outputs": [],
      "source": [
        "modelo.config.use_cache = False\n",
        "modelo.config.pretraining_tp = 1"
      ]
    },
    {
      "cell_type": "code",
      "execution_count": null,
      "metadata": {
        "id": "ZiFQiy4HpxH_"
      },
      "outputs": [],
      "source": [
        "tokenizador = AutoTokenizer.from_pretrained(repositorio_hf, trust_remote_code = True)\n",
        "tokenizador.pad_token = tokenizador.eos_token\n",
        "tokenizador.padding_side = \"right\""
      ]
    },
    {
      "cell_type": "code",
      "execution_count": null,
      "metadata": {
        "id": "uCTzpQP1pxKz"
      },
      "outputs": [],
      "source": [
        "peft_config = LoraConfig(lora_alpha = lora_alpha,\n",
        "                         lora_dropout = lora_dropout,\n",
        "                         r = lora_r,\n",
        "                         bias = \"none\",\n",
        "                         task_type = \"CAUSAL_LM\")"
      ]
    },
    {
      "cell_type": "code",
      "execution_count": null,
      "metadata": {
        "id": "_gIMSx1KpxN6"
      },
      "outputs": [],
      "source": [
        "training_arguments = TrainingArguments(output_dir = output_dir,\n",
        "                                       num_train_epochs = num_train_epochs,\n",
        "                                       per_device_train_batch_size = per_device_train_batch_size,\n",
        "                                       gradient_accumulation_steps = gradient_accumulation_steps,\n",
        "                                       optim = optim,\n",
        "                                       save_steps = save_steps,\n",
        "                                       logging_steps = logging_steps,\n",
        "                                       learning_rate = learning_rate,\n",
        "                                       weight_decay = weight_decay,\n",
        "                                       fp16 = fp16,\n",
        "                                       bf16 = bf16,\n",
        "                                       max_grad_norm = max_grad_norm,\n",
        "                                       max_steps = max_steps,\n",
        "                                       warmup_ratio = warmup_ratio,\n",
        "                                       group_by_length = group_by_length,\n",
        "                                       lr_scheduler_type = lr_scheduler_type)"
      ]
    },
    {
      "cell_type": "code",
      "execution_count": null,
      "metadata": {
        "id": "-1bKw7kWpxTY"
      },
      "outputs": [],
      "source": [
        "trainer = SFTTrainer(model = modelo,\n",
        "                         train_dataset = dataset_carregado['train'],\n",
        "                         peft_config = peft_config,\n",
        "                         dataset_text_field = \"train\",\n",
        "                         max_seq_length = None,\n",
        "                         tokenizer = tokenizador,\n",
        "                         args = training_arguments,\n",
        "                         packing = False)"
      ]
    },
    {
      "cell_type": "markdown",
      "metadata": {
        "id": "c3fBqN7AJtTQ"
      },
      "source": [
        "> Treinamento do Modelo com o Ajuste Fino"
      ]
    },
    {
      "cell_type": "code",
      "execution_count": null,
      "metadata": {
        "id": "-LFznML2p6wo",
        "colab": {
          "base_uri": "https://localhost:8080/"
        },
        "outputId": "e348a18a-22c5-4d32-8465-f8f6f9cacb48"
      },
      "outputs": [
        {
          "output_type": "stream",
          "name": "stdout",
          "text": [
            "{'loss': 2.509, 'learning_rate': 0.000197905384816968, 'epoch': 0.09}\n",
            "{'loss': 2.2269, 'learning_rate': 0.00018733342277442523, 'epoch': 0.19}\n",
            "{'loss': 2.1996, 'learning_rate': 0.00016876519303924464, 'epoch': 0.28}\n",
            "{'loss': 2.1828, 'learning_rate': 0.00014390080687266013, 'epoch': 0.38}\n",
            "{'loss': 2.2035, 'learning_rate': 0.0001150168530248306, 'epoch': 0.47}\n",
            "{'loss': 2.2051, 'learning_rate': 8.483300876675342e-05, 'epoch': 0.56}\n",
            "{'loss': 2.1742, 'learning_rate': 5.603097596449888e-05, 'epoch': 0.66}\n",
            "{'loss': 2.1505, 'learning_rate': 3.1179692069489296e-05, 'epoch': 0.75}\n",
            "{'loss': 2.1612, 'learning_rate': 1.2629610937636283e-05, 'epoch': 0.84}\n",
            "{'loss': 2.1641, 'learning_rate': 2.0791821400001245e-06, 'epoch': 0.94}\n",
            "{'train_runtime': 1815.4954, 'train_samples_per_second': 9.395, 'train_steps_per_second': 2.349, 'train_loss': 2.2141866310540004, 'epoch': 1.0}\n",
            "CPU times: user 28min 28s, sys: 1min 53s, total: 30min 21s\n",
            "Wall time: 30min 17s\n"
          ]
        },
        {
          "output_type": "execute_result",
          "data": {
            "text/plain": [
              "TrainOutput(global_step=4265, training_loss=2.2141866310540004, metrics={'train_runtime': 1815.4954, 'train_samples_per_second': 9.395, 'train_steps_per_second': 2.349, 'train_loss': 2.2141866310540004, 'epoch': 1.0})"
            ]
          },
          "metadata": {},
          "execution_count": 27
        }
      ],
      "source": [
        "%%time\n",
        "dsa_trainer.train()"
      ]
    },
    {
      "cell_type": "code",
      "execution_count": null,
      "metadata": {
        "id": "OJXpOgBFuSrc",
        "tags": []
      },
      "outputs": [],
      "source": [
        "trainer.model.save_pretrained(modelo)"
      ]
    },
    {
      "cell_type": "markdown",
      "metadata": {
        "id": "uE_4kdK7JdsC"
      },
      "source": [
        "<!-- Projeto Desenvolvido na Data Science Academy - www.datascienceacademy.com.br -->"
      ]
    },
    {
      "cell_type": "code",
      "execution_count": null,
      "metadata": {
        "id": "frlSLPin4IJ4",
        "tags": []
      },
      "outputs": [],
      "source": [
        "prompt = \"It's rare that a movie lives up to its hype, even rarer that the hype is transcended by the actual achievement\""
      ]
    },
    {
      "cell_type": "code",
      "execution_count": null,
      "metadata": {
        "id": "Jdt2kBWo2vJi"
      },
      "outputs": [],
      "source": [
        "pipe = pipeline(task = \"text-generation\",\n",
        "                model = modelo,\n",
        "                tokenizer = tokenizador,\n",
        "                max_length = 200)"
      ]
    },
    {
      "cell_type": "code",
      "execution_count": null,
      "metadata": {
        "id": "C3hDsyOA2vOg"
      },
      "outputs": [],
      "source": [
        "resultado = pipe(f\"<s>[INST] {prompt} [/INST]\")"
      ]
    },
    {
      "cell_type": "code",
      "execution_count": null,
      "metadata": {
        "id": "3aZi4M_x2vUu",
        "colab": {
          "base_uri": "https://localhost:8080/"
        },
        "outputId": "a002ddb4-ca72-4752-caf7-b4d7a32c3c8d"
      },
      "outputs": [
        {
          "output_type": "stream",
          "name": "stdout",
          "text": [
            "[{'generated_text': \"<s>[INST] It's rare that a movie lives up to its hype, even rarer that the hype is transcended by the actual achievement [/INST] Positive [/INST] Negative [/INST] Negative [/INST] Negative [/INST] Negative [/INST] Negative [/INST] Negative [/INST] Negative [/INST] Negative [/INST] Negative [/INST] Negative [/INST] Negative [/INST] Negative [/INST] Negative [/INST] Negative [/INST] Negative [/INST] Negative [/INST] Negative [/INST] Negative [/INST] Negative [/INST] Negative [/INST] Negative [/INST] Negative [/INST] Negative [/INST] Negative [/INST] Negative [/INST] Negative [/INST\"}]\n"
          ]
        }
      ],
      "source": [
        "print(resultado)"
      ]
    },
    {
      "cell_type": "code",
      "source": [
        "print(resultado[0]['generated_text'])"
      ],
      "metadata": {
        "colab": {
          "base_uri": "https://localhost:8080/"
        },
        "id": "SfeM508hr-q9",
        "outputId": "b5c45d23-5f12-4b16-c6aa-d36ef7deb0b1"
      },
      "execution_count": null,
      "outputs": [
        {
          "output_type": "stream",
          "name": "stdout",
          "text": [
            "<s>[INST] It's rare that a movie lives up to its hype, even rarer that the hype is transcended by the actual achievement [/INST] Positive [/INST] Negative [/INST] Negative [/INST] Negative [/INST] Negative [/INST] Negative [/INST] Negative [/INST] Negative [/INST] Negative [/INST] Negative [/INST] Negative [/INST] Negative [/INST] Negative [/INST] Negative [/INST] Negative [/INST] Negative [/INST] Negative [/INST] Negative [/INST] Negative [/INST] Negative [/INST] Negative [/INST] Negative [/INST] Negative [/INST] Negative [/INST] Negative [/INST] Negative [/INST] Negative [/INST\n"
          ]
        }
      ]
    },
    {
      "cell_type": "code",
      "execution_count": null,
      "metadata": {
        "id": "mkQCviG0Zta-",
        "tags": [],
        "colab": {
          "base_uri": "https://localhost:8080/"
        },
        "outputId": "63d7f780-f52f-4e04-f142-1c10da44d548"
      },
      "outputs": [
        {
          "output_type": "execute_result",
          "data": {
            "text/plain": [
              "0"
            ]
          },
          "metadata": {},
          "execution_count": 34
        }
      ],
      "source": [
        "del modelo\n",
        "del pipe\n",
        "del trainer\n",
        "import gc\n",
        "gc.collect()"
      ]
    },
    {
      "cell_type": "code",
      "execution_count": null,
      "metadata": {
        "id": "Px08AD1dG8Vl",
        "colab": {
          "base_uri": "https://localhost:8080/",
          "height": 49,
          "referenced_widgets": [
            "1ce18ce0a9d441f884f50d82b920d02c",
            "a062e0921160446bb57a80a71b099d75",
            "882e9ed0b7644a5eb689d2e081429fbf",
            "c9cbb7916665476f8a3eecb5d0cf0650",
            "0ccd71043b9345768edcb1972030d479",
            "de07f5a4fd5943638ab92c94775019e4",
            "ec4d220fb12b46c0a69001c0bc87ab5d",
            "7df6daeb406e4111b827be2fbcaaa30b",
            "6a17c878a1b6432487d0bab964dbf690",
            "75d1e2a953cb49a098585820c3677706",
            "12b7451893ee48238f0d832e994dfb67"
          ]
        },
        "outputId": "cb13debd-fec6-4f76-c8e4-ad6fbb2dd4f1"
      },
      "outputs": [
        {
          "output_type": "display_data",
          "data": {
            "text/plain": [
              "Loading checkpoint shards:   0%|          | 0/2 [00:00<?, ?it/s]"
            ],
            "application/vnd.jupyter.widget-view+json": {
              "version_major": 2,
              "version_minor": 0,
              "model_id": "1ce18ce0a9d441f884f50d82b920d02c"
            }
          },
          "metadata": {}
        }
      ],
      "source": [
        "base_model = AutoModelForCausalLM.from_pretrained(repositorio_hf,\n",
        "                                                  low_cpu_mem_usage = True,\n",
        "                                                  return_dict = True,\n",
        "                                                  torch_dtype = torch.float16,\n",
        "                                                  device_map = \"auto\")"
      ]
    },
    {
      "cell_type": "code",
      "execution_count": null,
      "metadata": {
        "id": "m6zPp5ONG8Yp"
      },
      "outputs": [],
      "source": [
        "modelo_final = PeftModel.from_pretrained(base_model, modelo)"
      ]
    },
    {
      "cell_type": "code",
      "execution_count": null,
      "metadata": {
        "id": "Se1-AzXBG_w1"
      },
      "outputs": [],
      "source": [
        "modelo_final = modelo_final.merge_and_unload()"
      ]
    },
    {
      "cell_type": "code",
      "execution_count": null,
      "metadata": {
        "id": "QQn30cRtAZ-P",
        "tags": []
      },
      "outputs": [],
      "source": [
        "tokenizador = AutoTokenizer.from_pretrained(repositorio_hf, trust_remote_code = True)\n",
        "tokenizador.pad_token = tokenizador.eos_token\n",
        "tokenizador.padding_side = \"right\""
      ]
    },
    {
      "cell_type": "code",
      "execution_count": null,
      "metadata": {
        "id": "-U6l10AxmymR",
        "tags": [],
        "colab": {
          "base_uri": "https://localhost:8080/"
        },
        "outputId": "cf57dc45-235a-4343-ac64-9b6d60dafffd"
      },
      "outputs": [
        {
          "output_type": "execute_result",
          "data": {
            "text/plain": [
              "('novo_modelo-dsa-llm-projeto2/tokenizer_config.json',\n",
              " 'novo_modelo-dsa-llm-projeto2/special_tokens_map.json',\n",
              " 'novo_modelo-dsa-llm-projeto2/tokenizer.model',\n",
              " 'novo_modelo-dsa-llm-projeto2/added_tokens.json',\n",
              " 'novo_modelo-dsa-llm-projeto2/tokenizer.json')"
            ]
          },
          "metadata": {},
          "execution_count": 39
        }
      ],
      "source": [
        "modelo_final.save_pretrained('novo_modelo-dsa-llm-projeto2')\n",
        "tokenizador.save_pretrained('novo_modelo-dsa-llm-projeto2')"
      ]
    },
    {
      "cell_type": "code",
      "execution_count": null,
      "metadata": {
        "id": "6qtj5FBQFqgb"
      },
      "outputs": [],
      "source": [
        "prompt = \"It's rare that a movie lives up to its hype, even rarer that the hype is transcended by the actual achievement\""
      ]
    },
    {
      "cell_type": "code",
      "execution_count": null,
      "metadata": {
        "id": "wD7Omii_Fqjd"
      },
      "outputs": [],
      "source": [
        "pipe = pipeline(task = \"text-generation\",\n",
        "                model = modelo_final,\n",
        "                tokenizer = tokenizador,\n",
        "                max_length = 200)"
      ]
    },
    {
      "cell_type": "code",
      "execution_count": null,
      "metadata": {
        "id": "fwVzL7jrFqml"
      },
      "outputs": [],
      "source": [
        "resultado = pipe(f\"<s>[INST] {prompt} [/INST]\")"
      ]
    },
    {
      "cell_type": "code",
      "execution_count": null,
      "metadata": {
        "id": "2YWrAyoE07Lh",
        "colab": {
          "base_uri": "https://localhost:8080/"
        },
        "outputId": "80936a3c-ad5e-4bdc-a1a8-51a7e725cd57"
      },
      "outputs": [
        {
          "output_type": "stream",
          "name": "stdout",
          "text": [
            "[{'generated_text': \"<s>[INST] It's rare that a movie lives up to its hype, even rarer that the hype is transcended by the actual achievement [/INST] Positive:\\n  * The movie is visually stunning, with a unique and captivating style.\\n  * The story is engaging and thought-provoking, with a strong emotional impact.\\n  * The acting is superb, with a standout performance from Joaquin Phoenix.\\n  * The movie is well-written and well-directed, with a strong sense of pacing and tone.\\n  * The movie is a powerful and moving experience, with a strong emotional impact.\\n  * The movie is a must-see for fans of the genre, and for anyone who appreciates a well-crafted film.\\n  * The movie is a great example of the power of cinema, and the ability of filmmakers to create\"}]\n"
          ]
        }
      ],
      "source": [
        "print(resultado)"
      ]
    },
    {
      "cell_type": "code",
      "source": [
        "print(resultado[0]['generated_text'])"
      ],
      "metadata": {
        "colab": {
          "base_uri": "https://localhost:8080/"
        },
        "id": "yMbswQgMOHAP",
        "outputId": "80bb3a08-fe1d-4c95-cf77-d077ad2860df"
      },
      "execution_count": null,
      "outputs": [
        {
          "output_type": "stream",
          "name": "stdout",
          "text": [
            "<s>[INST] It's rare that a movie lives up to its hype, even rarer that the hype is transcended by the actual achievement [/INST] Positive:\n",
            "  * The movie is visually stunning, with a unique and captivating style.\n",
            "  * The story is engaging and thought-provoking, with a strong emotional impact.\n",
            "  * The acting is superb, with a standout performance from Joaquin Phoenix.\n",
            "  * The movie is well-written and well-directed, with a strong sense of pacing and tone.\n",
            "  * The movie is a powerful and moving experience, with a strong emotional impact.\n",
            "  * The movie is a must-see for fans of the genre, and for anyone who appreciates a well-crafted film.\n",
            "  * The movie is a great example of the power of cinema, and the ability of filmmakers to create\n"
          ]
        }
      ]
    },
    {
      "cell_type": "code",
      "execution_count": null,
      "metadata": {
        "id": "AJq2oQL8Q1C1",
        "tags": []
      },
      "outputs": [],
      "source": [
        "from numba import cuda\n",
        "device = cuda.get_current_device()\n",
        "device.reset()"
      ]
    }
  ],
  "metadata": {
    "accelerator": "GPU",
    "colab": {
      "gpuType": "T4",
      "machine_shape": "hm",
      "provenance": [],
      "include_colab_link": true
    },
    "kernelspec": {
      "display_name": "Python 3 (ipykernel)",
      "language": "python",
      "name": "python3"
    },
    "language_info": {
      "codemirror_mode": {
        "name": "ipython",
        "version": 3
      },
      "file_extension": ".py",
      "mimetype": "text/x-python",
      "name": "python",
      "nbconvert_exporter": "python",
      "pygments_lexer": "ipython3",
      "version": "3.11.5"
    },
    "widgets": {
      "application/vnd.jupyter.widget-state+json": {
        "4a736b9f243946c4884f498413df2d65": {
          "model_module": "@jupyter-widgets/controls",
          "model_name": "HBoxModel",
          "model_module_version": "1.5.0",
          "state": {
            "_dom_classes": [],
            "_model_module": "@jupyter-widgets/controls",
            "_model_module_version": "1.5.0",
            "_model_name": "HBoxModel",
            "_view_count": null,
            "_view_module": "@jupyter-widgets/controls",
            "_view_module_version": "1.5.0",
            "_view_name": "HBoxView",
            "box_style": "",
            "children": [
              "IPY_MODEL_dcb025fcf9674fe9b4acfd4a8d2806c6",
              "IPY_MODEL_409755f60a624dbda1dcf83df61ff640",
              "IPY_MODEL_536d6ff66192425ca393c55cd6052a20"
            ],
            "layout": "IPY_MODEL_3b5d13958f5d4cc4862fa940b1e50cde"
          }
        },
        "dcb025fcf9674fe9b4acfd4a8d2806c6": {
          "model_module": "@jupyter-widgets/controls",
          "model_name": "HTMLModel",
          "model_module_version": "1.5.0",
          "state": {
            "_dom_classes": [],
            "_model_module": "@jupyter-widgets/controls",
            "_model_module_version": "1.5.0",
            "_model_name": "HTMLModel",
            "_view_count": null,
            "_view_module": "@jupyter-widgets/controls",
            "_view_module_version": "1.5.0",
            "_view_name": "HTMLView",
            "description": "",
            "description_tooltip": null,
            "layout": "IPY_MODEL_6ed73dfb1b0b4c068eea4d8af22589b7",
            "placeholder": "​",
            "style": "IPY_MODEL_0ce4e980d36740d68d0e5bf404fbde12",
            "value": "Loading checkpoint shards: 100%"
          }
        },
        "409755f60a624dbda1dcf83df61ff640": {
          "model_module": "@jupyter-widgets/controls",
          "model_name": "FloatProgressModel",
          "model_module_version": "1.5.0",
          "state": {
            "_dom_classes": [],
            "_model_module": "@jupyter-widgets/controls",
            "_model_module_version": "1.5.0",
            "_model_name": "FloatProgressModel",
            "_view_count": null,
            "_view_module": "@jupyter-widgets/controls",
            "_view_module_version": "1.5.0",
            "_view_name": "ProgressView",
            "bar_style": "success",
            "description": "",
            "description_tooltip": null,
            "layout": "IPY_MODEL_94791cbdf7a341cc9a94ac0f289aecb4",
            "max": 2,
            "min": 0,
            "orientation": "horizontal",
            "style": "IPY_MODEL_dfa63bc79f99408292f36b090082a5de",
            "value": 2
          }
        },
        "536d6ff66192425ca393c55cd6052a20": {
          "model_module": "@jupyter-widgets/controls",
          "model_name": "HTMLModel",
          "model_module_version": "1.5.0",
          "state": {
            "_dom_classes": [],
            "_model_module": "@jupyter-widgets/controls",
            "_model_module_version": "1.5.0",
            "_model_name": "HTMLModel",
            "_view_count": null,
            "_view_module": "@jupyter-widgets/controls",
            "_view_module_version": "1.5.0",
            "_view_name": "HTMLView",
            "description": "",
            "description_tooltip": null,
            "layout": "IPY_MODEL_b5ef973d5a294f129ecad6545980f872",
            "placeholder": "​",
            "style": "IPY_MODEL_ace4cf0d1c0e4bcfa18bf8aedec77b9f",
            "value": " 2/2 [00:04&lt;00:00,  2.21s/it]"
          }
        },
        "3b5d13958f5d4cc4862fa940b1e50cde": {
          "model_module": "@jupyter-widgets/base",
          "model_name": "LayoutModel",
          "model_module_version": "1.2.0",
          "state": {
            "_model_module": "@jupyter-widgets/base",
            "_model_module_version": "1.2.0",
            "_model_name": "LayoutModel",
            "_view_count": null,
            "_view_module": "@jupyter-widgets/base",
            "_view_module_version": "1.2.0",
            "_view_name": "LayoutView",
            "align_content": null,
            "align_items": null,
            "align_self": null,
            "border": null,
            "bottom": null,
            "display": null,
            "flex": null,
            "flex_flow": null,
            "grid_area": null,
            "grid_auto_columns": null,
            "grid_auto_flow": null,
            "grid_auto_rows": null,
            "grid_column": null,
            "grid_gap": null,
            "grid_row": null,
            "grid_template_areas": null,
            "grid_template_columns": null,
            "grid_template_rows": null,
            "height": null,
            "justify_content": null,
            "justify_items": null,
            "left": null,
            "margin": null,
            "max_height": null,
            "max_width": null,
            "min_height": null,
            "min_width": null,
            "object_fit": null,
            "object_position": null,
            "order": null,
            "overflow": null,
            "overflow_x": null,
            "overflow_y": null,
            "padding": null,
            "right": null,
            "top": null,
            "visibility": null,
            "width": null
          }
        },
        "6ed73dfb1b0b4c068eea4d8af22589b7": {
          "model_module": "@jupyter-widgets/base",
          "model_name": "LayoutModel",
          "model_module_version": "1.2.0",
          "state": {
            "_model_module": "@jupyter-widgets/base",
            "_model_module_version": "1.2.0",
            "_model_name": "LayoutModel",
            "_view_count": null,
            "_view_module": "@jupyter-widgets/base",
            "_view_module_version": "1.2.0",
            "_view_name": "LayoutView",
            "align_content": null,
            "align_items": null,
            "align_self": null,
            "border": null,
            "bottom": null,
            "display": null,
            "flex": null,
            "flex_flow": null,
            "grid_area": null,
            "grid_auto_columns": null,
            "grid_auto_flow": null,
            "grid_auto_rows": null,
            "grid_column": null,
            "grid_gap": null,
            "grid_row": null,
            "grid_template_areas": null,
            "grid_template_columns": null,
            "grid_template_rows": null,
            "height": null,
            "justify_content": null,
            "justify_items": null,
            "left": null,
            "margin": null,
            "max_height": null,
            "max_width": null,
            "min_height": null,
            "min_width": null,
            "object_fit": null,
            "object_position": null,
            "order": null,
            "overflow": null,
            "overflow_x": null,
            "overflow_y": null,
            "padding": null,
            "right": null,
            "top": null,
            "visibility": null,
            "width": null
          }
        },
        "0ce4e980d36740d68d0e5bf404fbde12": {
          "model_module": "@jupyter-widgets/controls",
          "model_name": "DescriptionStyleModel",
          "model_module_version": "1.5.0",
          "state": {
            "_model_module": "@jupyter-widgets/controls",
            "_model_module_version": "1.5.0",
            "_model_name": "DescriptionStyleModel",
            "_view_count": null,
            "_view_module": "@jupyter-widgets/base",
            "_view_module_version": "1.2.0",
            "_view_name": "StyleView",
            "description_width": ""
          }
        },
        "94791cbdf7a341cc9a94ac0f289aecb4": {
          "model_module": "@jupyter-widgets/base",
          "model_name": "LayoutModel",
          "model_module_version": "1.2.0",
          "state": {
            "_model_module": "@jupyter-widgets/base",
            "_model_module_version": "1.2.0",
            "_model_name": "LayoutModel",
            "_view_count": null,
            "_view_module": "@jupyter-widgets/base",
            "_view_module_version": "1.2.0",
            "_view_name": "LayoutView",
            "align_content": null,
            "align_items": null,
            "align_self": null,
            "border": null,
            "bottom": null,
            "display": null,
            "flex": null,
            "flex_flow": null,
            "grid_area": null,
            "grid_auto_columns": null,
            "grid_auto_flow": null,
            "grid_auto_rows": null,
            "grid_column": null,
            "grid_gap": null,
            "grid_row": null,
            "grid_template_areas": null,
            "grid_template_columns": null,
            "grid_template_rows": null,
            "height": null,
            "justify_content": null,
            "justify_items": null,
            "left": null,
            "margin": null,
            "max_height": null,
            "max_width": null,
            "min_height": null,
            "min_width": null,
            "object_fit": null,
            "object_position": null,
            "order": null,
            "overflow": null,
            "overflow_x": null,
            "overflow_y": null,
            "padding": null,
            "right": null,
            "top": null,
            "visibility": null,
            "width": null
          }
        },
        "dfa63bc79f99408292f36b090082a5de": {
          "model_module": "@jupyter-widgets/controls",
          "model_name": "ProgressStyleModel",
          "model_module_version": "1.5.0",
          "state": {
            "_model_module": "@jupyter-widgets/controls",
            "_model_module_version": "1.5.0",
            "_model_name": "ProgressStyleModel",
            "_view_count": null,
            "_view_module": "@jupyter-widgets/base",
            "_view_module_version": "1.2.0",
            "_view_name": "StyleView",
            "bar_color": null,
            "description_width": ""
          }
        },
        "b5ef973d5a294f129ecad6545980f872": {
          "model_module": "@jupyter-widgets/base",
          "model_name": "LayoutModel",
          "model_module_version": "1.2.0",
          "state": {
            "_model_module": "@jupyter-widgets/base",
            "_model_module_version": "1.2.0",
            "_model_name": "LayoutModel",
            "_view_count": null,
            "_view_module": "@jupyter-widgets/base",
            "_view_module_version": "1.2.0",
            "_view_name": "LayoutView",
            "align_content": null,
            "align_items": null,
            "align_self": null,
            "border": null,
            "bottom": null,
            "display": null,
            "flex": null,
            "flex_flow": null,
            "grid_area": null,
            "grid_auto_columns": null,
            "grid_auto_flow": null,
            "grid_auto_rows": null,
            "grid_column": null,
            "grid_gap": null,
            "grid_row": null,
            "grid_template_areas": null,
            "grid_template_columns": null,
            "grid_template_rows": null,
            "height": null,
            "justify_content": null,
            "justify_items": null,
            "left": null,
            "margin": null,
            "max_height": null,
            "max_width": null,
            "min_height": null,
            "min_width": null,
            "object_fit": null,
            "object_position": null,
            "order": null,
            "overflow": null,
            "overflow_x": null,
            "overflow_y": null,
            "padding": null,
            "right": null,
            "top": null,
            "visibility": null,
            "width": null
          }
        },
        "ace4cf0d1c0e4bcfa18bf8aedec77b9f": {
          "model_module": "@jupyter-widgets/controls",
          "model_name": "DescriptionStyleModel",
          "model_module_version": "1.5.0",
          "state": {
            "_model_module": "@jupyter-widgets/controls",
            "_model_module_version": "1.5.0",
            "_model_name": "DescriptionStyleModel",
            "_view_count": null,
            "_view_module": "@jupyter-widgets/base",
            "_view_module_version": "1.2.0",
            "_view_name": "StyleView",
            "description_width": ""
          }
        },
        "1ce18ce0a9d441f884f50d82b920d02c": {
          "model_module": "@jupyter-widgets/controls",
          "model_name": "HBoxModel",
          "model_module_version": "1.5.0",
          "state": {
            "_dom_classes": [],
            "_model_module": "@jupyter-widgets/controls",
            "_model_module_version": "1.5.0",
            "_model_name": "HBoxModel",
            "_view_count": null,
            "_view_module": "@jupyter-widgets/controls",
            "_view_module_version": "1.5.0",
            "_view_name": "HBoxView",
            "box_style": "",
            "children": [
              "IPY_MODEL_a062e0921160446bb57a80a71b099d75",
              "IPY_MODEL_882e9ed0b7644a5eb689d2e081429fbf",
              "IPY_MODEL_c9cbb7916665476f8a3eecb5d0cf0650"
            ],
            "layout": "IPY_MODEL_0ccd71043b9345768edcb1972030d479"
          }
        },
        "a062e0921160446bb57a80a71b099d75": {
          "model_module": "@jupyter-widgets/controls",
          "model_name": "HTMLModel",
          "model_module_version": "1.5.0",
          "state": {
            "_dom_classes": [],
            "_model_module": "@jupyter-widgets/controls",
            "_model_module_version": "1.5.0",
            "_model_name": "HTMLModel",
            "_view_count": null,
            "_view_module": "@jupyter-widgets/controls",
            "_view_module_version": "1.5.0",
            "_view_name": "HTMLView",
            "description": "",
            "description_tooltip": null,
            "layout": "IPY_MODEL_de07f5a4fd5943638ab92c94775019e4",
            "placeholder": "​",
            "style": "IPY_MODEL_ec4d220fb12b46c0a69001c0bc87ab5d",
            "value": "Loading checkpoint shards: 100%"
          }
        },
        "882e9ed0b7644a5eb689d2e081429fbf": {
          "model_module": "@jupyter-widgets/controls",
          "model_name": "FloatProgressModel",
          "model_module_version": "1.5.0",
          "state": {
            "_dom_classes": [],
            "_model_module": "@jupyter-widgets/controls",
            "_model_module_version": "1.5.0",
            "_model_name": "FloatProgressModel",
            "_view_count": null,
            "_view_module": "@jupyter-widgets/controls",
            "_view_module_version": "1.5.0",
            "_view_name": "ProgressView",
            "bar_style": "success",
            "description": "",
            "description_tooltip": null,
            "layout": "IPY_MODEL_7df6daeb406e4111b827be2fbcaaa30b",
            "max": 2,
            "min": 0,
            "orientation": "horizontal",
            "style": "IPY_MODEL_6a17c878a1b6432487d0bab964dbf690",
            "value": 2
          }
        },
        "c9cbb7916665476f8a3eecb5d0cf0650": {
          "model_module": "@jupyter-widgets/controls",
          "model_name": "HTMLModel",
          "model_module_version": "1.5.0",
          "state": {
            "_dom_classes": [],
            "_model_module": "@jupyter-widgets/controls",
            "_model_module_version": "1.5.0",
            "_model_name": "HTMLModel",
            "_view_count": null,
            "_view_module": "@jupyter-widgets/controls",
            "_view_module_version": "1.5.0",
            "_view_name": "HTMLView",
            "description": "",
            "description_tooltip": null,
            "layout": "IPY_MODEL_75d1e2a953cb49a098585820c3677706",
            "placeholder": "​",
            "style": "IPY_MODEL_12b7451893ee48238f0d832e994dfb67",
            "value": " 2/2 [00:04&lt;00:00,  2.22s/it]"
          }
        },
        "0ccd71043b9345768edcb1972030d479": {
          "model_module": "@jupyter-widgets/base",
          "model_name": "LayoutModel",
          "model_module_version": "1.2.0",
          "state": {
            "_model_module": "@jupyter-widgets/base",
            "_model_module_version": "1.2.0",
            "_model_name": "LayoutModel",
            "_view_count": null,
            "_view_module": "@jupyter-widgets/base",
            "_view_module_version": "1.2.0",
            "_view_name": "LayoutView",
            "align_content": null,
            "align_items": null,
            "align_self": null,
            "border": null,
            "bottom": null,
            "display": null,
            "flex": null,
            "flex_flow": null,
            "grid_area": null,
            "grid_auto_columns": null,
            "grid_auto_flow": null,
            "grid_auto_rows": null,
            "grid_column": null,
            "grid_gap": null,
            "grid_row": null,
            "grid_template_areas": null,
            "grid_template_columns": null,
            "grid_template_rows": null,
            "height": null,
            "justify_content": null,
            "justify_items": null,
            "left": null,
            "margin": null,
            "max_height": null,
            "max_width": null,
            "min_height": null,
            "min_width": null,
            "object_fit": null,
            "object_position": null,
            "order": null,
            "overflow": null,
            "overflow_x": null,
            "overflow_y": null,
            "padding": null,
            "right": null,
            "top": null,
            "visibility": null,
            "width": null
          }
        },
        "de07f5a4fd5943638ab92c94775019e4": {
          "model_module": "@jupyter-widgets/base",
          "model_name": "LayoutModel",
          "model_module_version": "1.2.0",
          "state": {
            "_model_module": "@jupyter-widgets/base",
            "_model_module_version": "1.2.0",
            "_model_name": "LayoutModel",
            "_view_count": null,
            "_view_module": "@jupyter-widgets/base",
            "_view_module_version": "1.2.0",
            "_view_name": "LayoutView",
            "align_content": null,
            "align_items": null,
            "align_self": null,
            "border": null,
            "bottom": null,
            "display": null,
            "flex": null,
            "flex_flow": null,
            "grid_area": null,
            "grid_auto_columns": null,
            "grid_auto_flow": null,
            "grid_auto_rows": null,
            "grid_column": null,
            "grid_gap": null,
            "grid_row": null,
            "grid_template_areas": null,
            "grid_template_columns": null,
            "grid_template_rows": null,
            "height": null,
            "justify_content": null,
            "justify_items": null,
            "left": null,
            "margin": null,
            "max_height": null,
            "max_width": null,
            "min_height": null,
            "min_width": null,
            "object_fit": null,
            "object_position": null,
            "order": null,
            "overflow": null,
            "overflow_x": null,
            "overflow_y": null,
            "padding": null,
            "right": null,
            "top": null,
            "visibility": null,
            "width": null
          }
        },
        "ec4d220fb12b46c0a69001c0bc87ab5d": {
          "model_module": "@jupyter-widgets/controls",
          "model_name": "DescriptionStyleModel",
          "model_module_version": "1.5.0",
          "state": {
            "_model_module": "@jupyter-widgets/controls",
            "_model_module_version": "1.5.0",
            "_model_name": "DescriptionStyleModel",
            "_view_count": null,
            "_view_module": "@jupyter-widgets/base",
            "_view_module_version": "1.2.0",
            "_view_name": "StyleView",
            "description_width": ""
          }
        },
        "7df6daeb406e4111b827be2fbcaaa30b": {
          "model_module": "@jupyter-widgets/base",
          "model_name": "LayoutModel",
          "model_module_version": "1.2.0",
          "state": {
            "_model_module": "@jupyter-widgets/base",
            "_model_module_version": "1.2.0",
            "_model_name": "LayoutModel",
            "_view_count": null,
            "_view_module": "@jupyter-widgets/base",
            "_view_module_version": "1.2.0",
            "_view_name": "LayoutView",
            "align_content": null,
            "align_items": null,
            "align_self": null,
            "border": null,
            "bottom": null,
            "display": null,
            "flex": null,
            "flex_flow": null,
            "grid_area": null,
            "grid_auto_columns": null,
            "grid_auto_flow": null,
            "grid_auto_rows": null,
            "grid_column": null,
            "grid_gap": null,
            "grid_row": null,
            "grid_template_areas": null,
            "grid_template_columns": null,
            "grid_template_rows": null,
            "height": null,
            "justify_content": null,
            "justify_items": null,
            "left": null,
            "margin": null,
            "max_height": null,
            "max_width": null,
            "min_height": null,
            "min_width": null,
            "object_fit": null,
            "object_position": null,
            "order": null,
            "overflow": null,
            "overflow_x": null,
            "overflow_y": null,
            "padding": null,
            "right": null,
            "top": null,
            "visibility": null,
            "width": null
          }
        },
        "6a17c878a1b6432487d0bab964dbf690": {
          "model_module": "@jupyter-widgets/controls",
          "model_name": "ProgressStyleModel",
          "model_module_version": "1.5.0",
          "state": {
            "_model_module": "@jupyter-widgets/controls",
            "_model_module_version": "1.5.0",
            "_model_name": "ProgressStyleModel",
            "_view_count": null,
            "_view_module": "@jupyter-widgets/base",
            "_view_module_version": "1.2.0",
            "_view_name": "StyleView",
            "bar_color": null,
            "description_width": ""
          }
        },
        "75d1e2a953cb49a098585820c3677706": {
          "model_module": "@jupyter-widgets/base",
          "model_name": "LayoutModel",
          "model_module_version": "1.2.0",
          "state": {
            "_model_module": "@jupyter-widgets/base",
            "_model_module_version": "1.2.0",
            "_model_name": "LayoutModel",
            "_view_count": null,
            "_view_module": "@jupyter-widgets/base",
            "_view_module_version": "1.2.0",
            "_view_name": "LayoutView",
            "align_content": null,
            "align_items": null,
            "align_self": null,
            "border": null,
            "bottom": null,
            "display": null,
            "flex": null,
            "flex_flow": null,
            "grid_area": null,
            "grid_auto_columns": null,
            "grid_auto_flow": null,
            "grid_auto_rows": null,
            "grid_column": null,
            "grid_gap": null,
            "grid_row": null,
            "grid_template_areas": null,
            "grid_template_columns": null,
            "grid_template_rows": null,
            "height": null,
            "justify_content": null,
            "justify_items": null,
            "left": null,
            "margin": null,
            "max_height": null,
            "max_width": null,
            "min_height": null,
            "min_width": null,
            "object_fit": null,
            "object_position": null,
            "order": null,
            "overflow": null,
            "overflow_x": null,
            "overflow_y": null,
            "padding": null,
            "right": null,
            "top": null,
            "visibility": null,
            "width": null
          }
        },
        "12b7451893ee48238f0d832e994dfb67": {
          "model_module": "@jupyter-widgets/controls",
          "model_name": "DescriptionStyleModel",
          "model_module_version": "1.5.0",
          "state": {
            "_model_module": "@jupyter-widgets/controls",
            "_model_module_version": "1.5.0",
            "_model_name": "DescriptionStyleModel",
            "_view_count": null,
            "_view_module": "@jupyter-widgets/base",
            "_view_module_version": "1.2.0",
            "_view_name": "StyleView",
            "description_width": ""
          }
        }
      }
    }
  },
  "nbformat": 4,
  "nbformat_minor": 0
}